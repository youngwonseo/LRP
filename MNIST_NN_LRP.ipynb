{
  "nbformat": 4,
  "nbformat_minor": 0,
  "metadata": {
    "colab": {
      "name": "MNIST-NN-LRP.ipynb",
      "provenance": [],
      "collapsed_sections": []
    },
    "kernelspec": {
      "name": "python3",
      "display_name": "Python 3"
    }
  },
  "cells": [
    {
      "cell_type": "code",
      "metadata": {
        "id": "6f-0ubAiAkWh"
      },
      "source": [
        "import tensorflow as tf\n",
        "from matplotlib import pyplot as plt"
      ],
      "execution_count": 1,
      "outputs": []
    },
    {
      "cell_type": "code",
      "metadata": {
        "id": "u3lE9sYhAyOd"
      },
      "source": [
        "mnist = tf.keras.datasets.mnist\n",
        "\n",
        "(x_train, y_train), (x_test, y_test) = mnist.load_data()\n",
        "x_train, x_test = x_train / 255.0, x_test / 255.0"
      ],
      "execution_count": 2,
      "outputs": []
    },
    {
      "cell_type": "code",
      "metadata": {
        "id": "uvDyZ8pSAzj8"
      },
      "source": [
        "model = tf.keras.models.Sequential([\n",
        "  tf.keras.layers.Flatten(input_shape=(28, 28)),\n",
        "  tf.keras.layers.Dense(128, activation='relu'),\n",
        "  # tf.keras.layers.Dropout(0.2),\n",
        "  tf.keras.layers.Dense(10, activation='softmax')\n",
        "])\n",
        "\n",
        "model.compile(optimizer='adam',\n",
        "              loss='sparse_categorical_crossentropy',\n",
        "              metrics=['accuracy'])"
      ],
      "execution_count": 3,
      "outputs": []
    },
    {
      "cell_type": "code",
      "metadata": {
        "colab": {
          "base_uri": "https://localhost:8080/"
        },
        "id": "x16c8ES-A0eK",
        "outputId": "4dea0177-49b9-4909-9394-b3884da120c9"
      },
      "source": [
        "model.fit(x_train, y_train, epochs=5)\n",
        "\n",
        "model.evaluate(x_test,  y_test, verbose=2)"
      ],
      "execution_count": 4,
      "outputs": [
        {
          "output_type": "stream",
          "text": [
            "Epoch 1/5\n",
            "1875/1875 [==============================] - 4s 2ms/step - loss: 0.2591 - accuracy: 0.9259\n",
            "Epoch 2/5\n",
            "1875/1875 [==============================] - 4s 2ms/step - loss: 0.1132 - accuracy: 0.9659\n",
            "Epoch 3/5\n",
            "1875/1875 [==============================] - 3s 2ms/step - loss: 0.0771 - accuracy: 0.9768\n",
            "Epoch 4/5\n",
            "1875/1875 [==============================] - 3s 2ms/step - loss: 0.0578 - accuracy: 0.9822\n",
            "Epoch 5/5\n",
            "1875/1875 [==============================] - 3s 2ms/step - loss: 0.0439 - accuracy: 0.9862\n",
            "313/313 - 0s - loss: 0.0767 - accuracy: 0.9780\n"
          ],
          "name": "stdout"
        },
        {
          "output_type": "execute_result",
          "data": {
            "text/plain": [
              "[0.07669153809547424, 0.9779999852180481]"
            ]
          },
          "metadata": {
            "tags": []
          },
          "execution_count": 4
        }
      ]
    },
    {
      "cell_type": "code",
      "metadata": {
        "id": "wSmD3cgJEXkE"
      },
      "source": [
        "def backprop_dense(activation, weight, bias, relevance):\n",
        "\n",
        "  w = tf.maximum(0., weight)\n",
        "  b = tf.maximum(0., bias)\n",
        "  z = tf.matmul(activation, w) + b #현재층의 activation\n",
        "\n",
        "  # 다음층의 타당성 / 현재층의 actvation\n",
        "  s = relevance / z\n",
        "\n",
        "  c = tf.matmul(s, tf.transpose(w))\n",
        "\n",
        "  return activation * c"
      ],
      "execution_count": 6,
      "outputs": []
    },
    {
      "cell_type": "code",
      "metadata": {
        "id": "sVt2qI7PFuv6"
      },
      "source": [
        "def getLRP(img):\n",
        "  activations = []\n",
        "  prev_activation = img.reshape(-1, 784)\n",
        "  for layer in model.layers:\n",
        "    prev_activation = layer(prev_activation)\n",
        "    activations.append(prev_activation)\n",
        "  \n",
        "  R = activations[2]\n",
        "\n",
        "  a = activations[1]\n",
        "  w = model.layers[2].kernel\n",
        "  b = model.layers[2].bias\n",
        "\n",
        "  R = backprop_dense(a, w, b, R)\n",
        "\n",
        "\n",
        "  a = activations[0]\n",
        "  w = model.layers[1].kernel\n",
        "  b = model.layers[1].bias\n",
        "\n",
        "  R = backprop_dense(a, w, b, R)\n",
        "  return R"
      ],
      "execution_count": 7,
      "outputs": []
    },
    {
      "cell_type": "code",
      "metadata": {
        "colab": {
          "base_uri": "https://localhost:8080/",
          "height": 831
        },
        "id": "yn7zvB9HuRCe",
        "outputId": "da1659ff-99e5-4413-dd7e-5eeed8546d14"
      },
      "source": [
        "import numpy as np\n",
        "import math\n",
        "# get MNIST dataset index dict\n",
        "mnist_dict = {}\n",
        "idx = 0\n",
        "for label in y_test:\n",
        "  if mnist_dict.get(label):\n",
        "    mnist_dict[label].append(idx)\n",
        "  else:\n",
        "    mnist_dict[label] = [idx]\n",
        "  idx += 1\n",
        "\n",
        "# get LRP\n",
        "nums = []\n",
        "for i in range(10):\n",
        "  img_idx = mnist_dict[i][0]\n",
        "  img = x_test[img_idx]\n",
        "  lrp = getLRP(img)\n",
        "  nums.append(lrp)\n",
        "\n",
        "# plot images\n",
        "plt.figure(figsize=(20,10))\n",
        "for i in range(2):\n",
        "  for j in range(5):\n",
        "    idx = 5 * i + j\n",
        "    plt.subplot(2, 5, idx + 1)\n",
        "    plt.title('digit: {}'.format(idx))\n",
        "\n",
        "    result = tf.reshape(nums[idx], [28, 28])\n",
        "    result = result.numpy()\n",
        "    # result = np.nan_to_num(result)\n",
        "\n",
        "    plt.imshow(result, cmap=plt.cm.jet)\n",
        "    plt.colorbar(orientation='horizontal')\n",
        "plt.tight_layout()"
      ],
      "execution_count": 8,
      "outputs": [
        {
          "output_type": "stream",
          "text": [
            "WARNING:tensorflow:Layer flatten is casting an input tensor from dtype float64 to the layer's dtype of float32, which is new behavior in TensorFlow 2.  The layer has dtype float32 because its dtype defaults to floatx.\n",
            "\n",
            "If you intended to run this layer in float32, you can safely ignore this warning. If in doubt, this warning is likely only an issue if you are porting a TensorFlow 1.X model to TensorFlow 2.\n",
            "\n",
            "To change all layers to have dtype float64 by default, call `tf.keras.backend.set_floatx('float64')`. To change just this layer, pass dtype='float64' to the layer constructor. If you are the author of this layer, you can disable autocasting by passing autocast=False to the base Layer constructor.\n",
            "\n"
          ],
          "name": "stdout"
        },
        {
          "output_type": "display_data",
          "data": {
            "image/png": "[encoded data removed]",
            "text/plain": [
              "<Figure size 1440x720 with 20 Axes>"
            ]
          },
          "metadata": {
            "tags": [],
            "needs_background": "light"
          }
        }
      ]
    },
    {
      "cell_type": "code",
      "metadata": {
        "id": "3M1Cga6BuWso"
      },
      "source": [
        ""
      ],
      "execution_count": 8,
      "outputs": []
    }
  ]
}