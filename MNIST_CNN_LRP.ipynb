{
  "nbformat": 4,
  "nbformat_minor": 0,
  "metadata": {
    "colab": {
      "name": "MNIST-CNN-LRP.ipynb",
      "provenance": [],
      "collapsed_sections": []
    },
    "kernelspec": {
      "name": "python3",
      "display_name": "Python 3"
    }
  },
  "cells": [
    {
      "cell_type": "code",
      "metadata": {
        "id": "6f-0ubAiAkWh"
      },
      "source": [
        "import tensorflow as tf\n",
        "from matplotlib import pyplot as plt"
      ],
      "execution_count": 1,
      "outputs": []
    },
    {
      "cell_type": "code",
      "metadata": {
        "id": "u3lE9sYhAyOd"
      },
      "source": [
        "mnist = tf.keras.datasets.mnist\n",
        "\n",
        "(x_train, y_train), (x_test, y_test) = mnist.load_data()\n",
        "\n",
        "x_train = x_train.reshape((60000, 28, 28, 1))\n",
        "x_test = x_test.reshape((10000, 28, 28, 1))\n",
        "\n",
        "\n",
        "x_train, x_test = x_train / 255.0, x_test / 255.0"
      ],
      "execution_count": 2,
      "outputs": []
    },
    {
      "cell_type": "code",
      "metadata": {
        "id": "uvDyZ8pSAzj8"
      },
      "source": [
        "model = tf.keras.models.Sequential([\n",
        "  tf.keras.layers.Conv2D(5, (5, 5), padding='SAME', activation='relu', input_shape=(28, 28, 1)),\n",
        "  tf.keras.layers.MaxPooling2D((2, 2)),\n",
        "  tf.keras.layers.Conv2D(5, (5, 5), padding='SAME', activation='relu'),\n",
        "  tf.keras.layers.MaxPooling2D((2, 2)),\n",
        "  tf.keras.layers.Conv2D(20, (5, 5), padding='SAME', activation='relu'),\n",
        "  tf.keras.layers.Flatten(),\n",
        "  tf.keras.layers.Dense(10, activation='softmax')\n",
        "])\n",
        "\n",
        "model.compile(optimizer='adam',\n",
        "              loss='sparse_categorical_crossentropy',\n",
        "              metrics=['accuracy'])"
      ],
      "execution_count": 3,
      "outputs": []
    },
    {
      "cell_type": "code",
      "metadata": {
        "colab": {
          "base_uri": "https://localhost:8080/"
        },
        "id": "x16c8ES-A0eK",
        "outputId": "7bae6280-5c43-43df-e743-70146ed1a9e4"
      },
      "source": [
        "model.fit(x_train, y_train, epochs=5)\n",
        "\n",
        "model.evaluate(x_test,  y_test, verbose=2)"
      ],
      "execution_count": 4,
      "outputs": [
        {
          "output_type": "stream",
          "text": [
            "Epoch 1/5\n",
            "1875/1875 [==============================] - 41s 22ms/step - loss: 0.1974 - accuracy: 0.9396\n",
            "Epoch 2/5\n",
            "1875/1875 [==============================] - 41s 22ms/step - loss: 0.0701 - accuracy: 0.9770\n",
            "Epoch 3/5\n",
            "1875/1875 [==============================] - 41s 22ms/step - loss: 0.0508 - accuracy: 0.9837\n",
            "Epoch 4/5\n",
            "1875/1875 [==============================] - 41s 22ms/step - loss: 0.0421 - accuracy: 0.9868\n",
            "Epoch 5/5\n",
            "1875/1875 [==============================] - 42s 23ms/step - loss: 0.0340 - accuracy: 0.9889\n",
            "313/313 - 3s - loss: 0.0377 - accuracy: 0.9877\n"
          ],
          "name": "stdout"
        },
        {
          "output_type": "execute_result",
          "data": {
            "text/plain": [
              "[0.0376606360077858, 0.9876999855041504]"
            ]
          },
          "metadata": {
            "tags": []
          },
          "execution_count": 4
        }
      ]
    },
    {
      "cell_type": "code",
      "metadata": {
        "id": "wSmD3cgJEXkE"
      },
      "source": [
        "def backprop_dense(activation, weight, bias, relevance):\n",
        "  w = tf.maximum(0., weight)\n",
        "  b = tf.maximum(0., bias)\n",
        "  z = tf.matmul(activation, w) + b \n",
        "  s = relevance / z\n",
        "  c = tf.matmul(s, tf.transpose(w))\n",
        "  return activation * c\n",
        "\n",
        "\n",
        "def backprop_conv(activation, weight, bias, relevance):\n",
        "  strides = [1,1,1,1]\n",
        "  w = tf.maximum(0., weight)\n",
        "  b = tf.maximum(0., bias)\n",
        "  z = tf.nn.conv2d(activation, w, strides, padding='SAME')\n",
        "  z = tf.nn.bias_add(z, b)\n",
        "  s = relevance / z\n",
        "  c = tf.compat.v1.nn.conv2d_backprop_input(tf.shape(activation), w, s, strides, padding='SAME')\n",
        "  return activation * c\n",
        "\n",
        "\n",
        "from tensorflow.python.ops import gen_nn_ops\n",
        "def backprop_pooling(activation, relevance):\n",
        "  # kernel size, strides\n",
        "  # if z is zero\n",
        "  ksize = strides = [1, 2, 2, 1]\n",
        "  z = tf.nn.max_pool(activation, ksize, strides, padding='SAME') + 1e-10\n",
        "  s = relevance / z\n",
        "  # input, argmax, argmax_mask\n",
        "  c = gen_nn_ops.max_pool_grad(activation, z, s, ksize, strides, padding='SAME')\n",
        "  return activation * c"
      ],
      "execution_count": 5,
      "outputs": []
    },
    {
      "cell_type": "code",
      "metadata": {
        "id": "iLLeMFLyXq6y"
      },
      "source": [
        "def getLRP(img):\n",
        "  activations = []\n",
        "  prev_activation = img.reshape(-1, 28,28, 1)\n",
        "  for layer in model.layers:\n",
        "    prev_activation = layer(prev_activation)\n",
        "    activations.append(prev_activation)\n",
        "  \n",
        "  # Dense\n",
        "  R4 = activations[6]\n",
        "\n",
        "  # fully connected\n",
        "  a = activations[4]\n",
        "  w = model.layers[6].kernel\n",
        "  b = model.layers[6].bias\n",
        "  R3 = backprop_dense(tf.reshape(a,[1, 980]), w, b, R4)\n",
        "\n",
        "  # conv\n",
        "  w = model.layers[4].kernel\n",
        "  b = model.layers[4].bias\n",
        "  p = activations[3]\n",
        "  a = activations[1]\n",
        "  R_conv = backprop_conv(p, w, b, tf.reshape(R3, [1, 7, 7, 20]))\n",
        "  R2 = backprop_pooling(a, R_conv)\n",
        "\n",
        "  # conv\n",
        "  w = model.layers[2].kernel\n",
        "  b = model.layers[2].bias\n",
        "  p = activations[1]\n",
        "  a = activations[0]\n",
        "  R_conv = backprop_conv(p, w, b, R2)\n",
        "  R1 = backprop_pooling(a, R_conv)\n",
        "\n",
        "  w = model.layers[0].kernel\n",
        "  b = model.layers[0].bias\n",
        "  R0 = backprop_conv(img.reshape(-1, 28,28, 1), w, b, R1)\n",
        "\n",
        "\n",
        "  return R0"
      ],
      "execution_count": 6,
      "outputs": []
    },
    {
      "cell_type": "code",
      "metadata": {
        "colab": {
          "base_uri": "https://localhost:8080/",
          "height": 831
        },
        "id": "PXFWk4R1Za8Q",
        "outputId": "112fc125-1ef4-4095-bded-a511a89dd061"
      },
      "source": [
        "import numpy as np\n",
        "import math\n",
        "# get MNIST dataset index dict\n",
        "mnist_dict = {}\n",
        "idx = 0\n",
        "for label in y_test:\n",
        "  if mnist_dict.get(label):\n",
        "    mnist_dict[label].append(idx)\n",
        "  else:\n",
        "    mnist_dict[label] = [idx]\n",
        "  idx += 1\n",
        "\n",
        "# get LRP\n",
        "nums = []\n",
        "for i in range(10):\n",
        "  img_idx = mnist_dict[i][0]\n",
        "  img = x_test[img_idx]\n",
        "  lrp = getLRP(img)\n",
        "  nums.append(lrp)\n",
        "\n",
        "# plot images\n",
        "plt.figure(figsize=(20,10))\n",
        "for i in range(2):\n",
        "  for j in range(5):\n",
        "    idx = 5 * i + j\n",
        "    plt.subplot(2, 5, idx + 1)\n",
        "    plt.title('digit: {}'.format(idx))\n",
        "\n",
        "    result = tf.reshape(nums[idx], [28, 28])\n",
        "    result = result.numpy()\n",
        "    result = np.nan_to_num(result)\n",
        "\n",
        "    plt.imshow(result, cmap=plt.cm.jet)\n",
        "    plt.colorbar(orientation='horizontal')\n",
        "plt.tight_layout()"
      ],
      "execution_count": 7,
      "outputs": [
        {
          "output_type": "stream",
          "text": [
            "WARNING:tensorflow:Layer conv2d is casting an input tensor from dtype float64 to the layer's dtype of float32, which is new behavior in TensorFlow 2.  The layer has dtype float32 because its dtype defaults to floatx.\n",
            "\n",
            "If you intended to run this layer in float32, you can safely ignore this warning. If in doubt, this warning is likely only an issue if you are porting a TensorFlow 1.X model to TensorFlow 2.\n",
            "\n",
            "To change all layers to have dtype float64 by default, call `tf.keras.backend.set_floatx('float64')`. To change just this layer, pass dtype='float64' to the layer constructor. If you are the author of this layer, you can disable autocasting by passing autocast=False to the base Layer constructor.\n",
            "\n"
          ],
          "name": "stdout"
        },
        {
          "output_type": "display_data",
          "data": {
            "image/png": "[encoded data removed]",
            "text/plain": [
              "<Figure size 1440x720 with 20 Axes>"
            ]
          },
          "metadata": {
            "tags": [],
            "needs_background": "light"
          }
        }
      ]
    },
    {
      "cell_type": "code",
      "metadata": {
        "id": "3XS7xErMa7k7"
      },
      "source": [
        ""
      ],
      "execution_count": 7,
      "outputs": []
    }
  ]
}